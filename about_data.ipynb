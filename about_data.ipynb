{
 "cells": [
  {
   "cell_type": "code",
   "execution_count": 1,
   "metadata": {},
   "outputs": [],
   "source": [
    "import pandas as pd"
   ]
  },
  {
   "cell_type": "code",
   "execution_count": 4,
   "metadata": {},
   "outputs": [
    {
     "data": {
      "text/html": [
       "<div>\n",
       "<style scoped>\n",
       "    .dataframe tbody tr th:only-of-type {\n",
       "        vertical-align: middle;\n",
       "    }\n",
       "\n",
       "    .dataframe tbody tr th {\n",
       "        vertical-align: top;\n",
       "    }\n",
       "\n",
       "    .dataframe thead th {\n",
       "        text-align: right;\n",
       "    }\n",
       "</style>\n",
       "<table border=\"1\" class=\"dataframe\">\n",
       "  <thead>\n",
       "    <tr style=\"text-align: right;\">\n",
       "      <th></th>\n",
       "      <th>일자</th>\n",
       "      <th>단위농협</th>\n",
       "      <th>참외물량</th>\n",
       "      <th>상품가격</th>\n",
       "      <th>중품가격</th>\n",
       "    </tr>\n",
       "  </thead>\n",
       "  <tbody>\n",
       "    <tr>\n",
       "      <th>0</th>\n",
       "      <td>2018-01-25</td>\n",
       "      <td>9</td>\n",
       "      <td>125</td>\n",
       "      <td>90000</td>\n",
       "      <td>71000</td>\n",
       "    </tr>\n",
       "    <tr>\n",
       "      <th>1</th>\n",
       "      <td>2018-02-28</td>\n",
       "      <td>1</td>\n",
       "      <td>3484</td>\n",
       "      <td>67000</td>\n",
       "      <td>46000</td>\n",
       "    </tr>\n",
       "    <tr>\n",
       "      <th>2</th>\n",
       "      <td>2018-02-28</td>\n",
       "      <td>3</td>\n",
       "      <td>787</td>\n",
       "      <td>62000</td>\n",
       "      <td>46000</td>\n",
       "    </tr>\n",
       "    <tr>\n",
       "      <th>3</th>\n",
       "      <td>2018-02-28</td>\n",
       "      <td>8</td>\n",
       "      <td>36</td>\n",
       "      <td>54000</td>\n",
       "      <td>40000</td>\n",
       "    </tr>\n",
       "    <tr>\n",
       "      <th>4</th>\n",
       "      <td>2018-02-28</td>\n",
       "      <td>6</td>\n",
       "      <td>232</td>\n",
       "      <td>55000</td>\n",
       "      <td>48000</td>\n",
       "    </tr>\n",
       "    <tr>\n",
       "      <th>...</th>\n",
       "      <td>...</td>\n",
       "      <td>...</td>\n",
       "      <td>...</td>\n",
       "      <td>...</td>\n",
       "      <td>...</td>\n",
       "    </tr>\n",
       "    <tr>\n",
       "      <th>109</th>\n",
       "      <td>2020-07-30</td>\n",
       "      <td>1</td>\n",
       "      <td>6273</td>\n",
       "      <td>50000</td>\n",
       "      <td>15000</td>\n",
       "    </tr>\n",
       "    <tr>\n",
       "      <th>110</th>\n",
       "      <td>2020-07-30</td>\n",
       "      <td>6</td>\n",
       "      <td>1332</td>\n",
       "      <td>38000</td>\n",
       "      <td>18000</td>\n",
       "    </tr>\n",
       "    <tr>\n",
       "      <th>111</th>\n",
       "      <td>2020-07-30</td>\n",
       "      <td>4</td>\n",
       "      <td>5156</td>\n",
       "      <td>52000</td>\n",
       "      <td>16000</td>\n",
       "    </tr>\n",
       "    <tr>\n",
       "      <th>112</th>\n",
       "      <td>2020-07-30</td>\n",
       "      <td>3</td>\n",
       "      <td>2695</td>\n",
       "      <td>35000</td>\n",
       "      <td>14000</td>\n",
       "    </tr>\n",
       "    <tr>\n",
       "      <th>113</th>\n",
       "      <td>2020-07-30</td>\n",
       "      <td>9</td>\n",
       "      <td>6666</td>\n",
       "      <td>42000</td>\n",
       "      <td>13000</td>\n",
       "    </tr>\n",
       "  </tbody>\n",
       "</table>\n",
       "<p>114 rows × 5 columns</p>\n",
       "</div>"
      ],
      "text/plain": [
       "             일자  단위농협  참외물량   상품가격   중품가격\n",
       "0    2018-01-25     9   125  90000  71000\n",
       "1    2018-02-28     1  3484  67000  46000\n",
       "2    2018-02-28     3   787  62000  46000\n",
       "3    2018-02-28     8    36  54000  40000\n",
       "4    2018-02-28     6   232  55000  48000\n",
       "..          ...   ...   ...    ...    ...\n",
       "109  2020-07-30     1  6273  50000  15000\n",
       "110  2020-07-30     6  1332  38000  18000\n",
       "111  2020-07-30     4  5156  52000  16000\n",
       "112  2020-07-30     3  2695  35000  14000\n",
       "113  2020-07-30     9  6666  42000  13000\n",
       "\n",
       "[114 rows x 5 columns]"
      ]
     },
     "execution_count": 4,
     "metadata": {},
     "output_type": "execute_result"
    }
   ],
   "source": [
    "df = pd.read_csv('경상북도 성주군_참외가격_20200731.csv', encoding='cp949')\n",
    "df"
   ]
  },
  {
   "cell_type": "code",
   "execution_count": 7,
   "metadata": {},
   "outputs": [],
   "source": [
    "df['단위농협']=df['단위농협'].astype('category')"
   ]
  },
  {
   "cell_type": "code",
   "execution_count": 10,
   "metadata": {},
   "outputs": [
    {
     "data": {
      "text/plain": [
       "9    23\n",
       "1    20\n",
       "8    20\n",
       "4    18\n",
       "3    17\n",
       "6    16\n",
       "Name: 단위농협, dtype: int64"
      ]
     },
     "execution_count": 10,
     "metadata": {},
     "output_type": "execute_result"
    }
   ],
   "source": [
    "df['단위농협'].value_counts()"
   ]
  },
  {
   "cell_type": "code",
   "execution_count": 11,
   "metadata": {},
   "outputs": [
    {
     "data": {
      "text/plain": [
       "[9, 1, 3, 8, 6, 4]\n",
       "Categories (6, int64): [1, 3, 4, 6, 8, 9]"
      ]
     },
     "execution_count": 11,
     "metadata": {},
     "output_type": "execute_result"
    }
   ],
   "source": [
    "df['단위농협'].unique()"
   ]
  }
 ],
 "metadata": {
  "kernelspec": {
   "display_name": "time_series",
   "language": "python",
   "name": "python3"
  },
  "language_info": {
   "codemirror_mode": {
    "name": "ipython",
    "version": 3
   },
   "file_extension": ".py",
   "mimetype": "text/x-python",
   "name": "python",
   "nbconvert_exporter": "python",
   "pygments_lexer": "ipython3",
   "version": "3.10.8"
  },
  "orig_nbformat": 4,
  "vscode": {
   "interpreter": {
    "hash": "727e90fe3cd04929cd942694a5ce5bdc8f80963a4cbf096a59d7339b628eeb5c"
   }
  }
 },
 "nbformat": 4,
 "nbformat_minor": 2
}
